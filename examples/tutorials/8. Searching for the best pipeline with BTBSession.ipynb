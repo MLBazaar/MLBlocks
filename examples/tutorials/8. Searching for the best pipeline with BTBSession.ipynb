{
 "cells": [
  {
   "cell_type": "markdown",
   "metadata": {},
   "source": [
    "# Selecting and Tuning pipelines\n",
    "\n",
    "This guide shows you how to search for multiple pipelines for your problem\n",
    "and later on use a [BTBSession](https://mlbazaar.github.io/BTB/api/btb.session.html#btb.session.BTBSession)\n",
    "to select and tune the best one.\n",
    "\n",
    "Note that some steps are not explained for simplicity. Full details\n",
    "about them can be found in the previous parts of the tutorial.\n",
    "\n",
    "Here we will:\n",
    "\n",
    "1. Load a dataset\n",
    "2. Search and load suitable templates\n",
    "3. Write a scoring function\n",
    "4. Build a BTBSession for our templates\n",
    "5. Run the session to find the best pipeline"
   ]
  },
  {
   "cell_type": "markdown",
   "metadata": {},
   "source": [
    "## Load the Dataset\n",
    "\n",
    "The first step will be to load the dataset."
   ]
  },
  {
   "cell_type": "code",
   "execution_count": 1,
   "metadata": {},
   "outputs": [],
   "source": [
    "from mlprimitives.datasets import load_dataset\n",
    "\n",
    "dataset = load_dataset('census')"
   ]
  },
  {
   "cell_type": "code",
   "execution_count": 2,
   "metadata": {},
   "outputs": [
    {
     "name": "stdout",
     "output_type": "stream",
     "text": [
      "Adult Census dataset.\n",
      "\n",
      "    Predict whether income exceeds $50K/yr based on census data. Also known as \"Adult\" dataset.\n",
      "\n",
      "    Extraction was done by Barry Becker from the 1994 Census database. A set of reasonably clean\n",
      "    records was extracted using the following conditions: ((AAGE>16) && (AGI>100) &&\n",
      "    (AFNLWGT>1)&& (HRSWK>0))\n",
      "\n",
      "    Prediction task is to determine whether a person makes over 50K a year.\n",
      "\n",
      "    source: \"UCI\n",
      "    sourceURI: \"https://archive.ics.uci.edu/ml/datasets/census+income\"\n",
      "    \n",
      "Data Modality: single_table\n",
      "Task Type: classification\n",
      "Task Subtype: binary\n",
      "Data shape: (32561, 14)\n",
      "Target shape: (32561,)\n",
      "Metric: accuracy_score\n",
      "Extras: \n"
     ]
    }
   ],
   "source": [
    "dataset.describe()"
   ]
  },
  {
   "cell_type": "markdown",
   "metadata": {},
   "source": [
    "## Find and load suitable Templates"
   ]
  },
  {
   "cell_type": "markdown",
   "metadata": {},
   "source": [
    "We will be using the `mlblocks.discovery.find_pipelines` function to search\n",
    "for compatible pipelines.\n",
    "\n",
    "In this case, we will be looking for `single_table/classification` pipelines."
   ]
  },
  {
   "cell_type": "code",
   "execution_count": 3,
   "metadata": {},
   "outputs": [],
   "source": [
    "from mlblocks.discovery import find_pipelines\n",
    "\n",
    "templates = find_pipelines('single_table.classification')"
   ]
  },
  {
   "cell_type": "code",
   "execution_count": 4,
   "metadata": {},
   "outputs": [
    {
     "data": {
      "text/plain": [
       "['single_table.classification',\n",
       " 'single_table.classification.text',\n",
       " 'single_table.classification.xgb']"
      ]
     },
     "execution_count": 4,
     "metadata": {},
     "output_type": "execute_result"
    }
   ],
   "source": [
    "templates"
   ]
  },
  {
   "cell_type": "markdown",
   "metadata": {},
   "source": [
    "And we will create a dictionary with MLPipeline instances that will be used as tempaltes for our tuning."
   ]
  },
  {
   "cell_type": "code",
   "execution_count": 5,
   "metadata": {},
   "outputs": [],
   "source": [
    "from mlblocks import MLPipeline\n",
    "\n",
    "templates_dict = {\n",
    "    template: MLPipeline(template)\n",
    "    for template in templates\n",
    "}"
   ]
  },
  {
   "cell_type": "code",
   "execution_count": 6,
   "metadata": {},
   "outputs": [
    {
     "data": {
      "text/plain": [
       "<mlblocks.mlpipeline.MLPipeline at 0x7fc8721f0828>"
      ]
     },
     "execution_count": 6,
     "metadata": {},
     "output_type": "execute_result"
    }
   ],
   "source": [
    "templates_dict['single_table.classification.xgb']"
   ]
  },
  {
   "cell_type": "markdown",
   "metadata": {},
   "source": [
    "## Create a scoring function\n",
    "\n",
    "In order to use a `BTBSession` we will need a function that is able to score a proposal,\n",
    "which will always be a pair of template name and proposed hyperparameters.\n",
    "\n",
    "In this case, the evaluation will be done using 5-fold cross validation over our dataset."
   ]
  },
  {
   "cell_type": "code",
   "execution_count": 7,
   "metadata": {},
   "outputs": [],
   "source": [
    "import numpy as np\n",
    "\n",
    "def cross_validate(template_name, hyperparameters=None):\n",
    "    template = templates_dict[template_name]\n",
    "    scores = []\n",
    "    for X_train, X_test, y_train, y_test in dataset.get_splits(5):\n",
    "        pipeline = MLPipeline(template.to_dict())  # Make a copy of the template\n",
    "        if hyperparameters:\n",
    "            pipeline.set_hyperparameters(hyperparameters)\n",
    "\n",
    "        pipeline.fit(X_train, y_train)\n",
    "        y_pred = pipeline.predict(X_test)\n",
    "        \n",
    "        scores.append(dataset.score(y_test, y_pred))\n",
    "        \n",
    "    return np.mean(scores)"
   ]
  },
  {
   "cell_type": "markdown",
   "metadata": {},
   "source": [
    "## Setup the BTBSession"
   ]
  },
  {
   "cell_type": "markdown",
   "metadata": {},
   "source": [
    "We will create another dictionary with the tunable hyperparameters of each template.\n",
    "This will be used by the BTBSession to know how to tune each template."
   ]
  },
  {
   "cell_type": "code",
   "execution_count": 8,
   "metadata": {},
   "outputs": [],
   "source": [
    "tunables = {\n",
    "    name: template.get_tunable_hyperparameters(flat=True)\n",
    "    for name, template in templates_dict.items()\n",
    "}"
   ]
  },
  {
   "cell_type": "code",
   "execution_count": 9,
   "metadata": {},
   "outputs": [
    {
     "data": {
      "text/plain": [
       "{('mlprimitives.custom.feature_extraction.CategoricalEncoder#1',\n",
       "  'max_labels'): {'type': 'int', 'default': 0, 'range': [0, 100]},\n",
       " ('sklearn.impute.SimpleImputer#1', 'strategy'): {'type': 'str',\n",
       "  'default': 'mean',\n",
       "  'values': ['mean', 'median', 'most_frequent', 'constant']},\n",
       " ('xgboost.XGBClassifier#1', 'n_estimators'): {'type': 'int',\n",
       "  'default': 100,\n",
       "  'range': [10, 1000]},\n",
       " ('xgboost.XGBClassifier#1', 'max_depth'): {'type': 'int',\n",
       "  'default': 3,\n",
       "  'range': [3, 10]},\n",
       " ('xgboost.XGBClassifier#1', 'learning_rate'): {'type': 'float',\n",
       "  'default': 0.1,\n",
       "  'range': [0, 1]},\n",
       " ('xgboost.XGBClassifier#1', 'gamma'): {'type': 'float',\n",
       "  'default': 0,\n",
       "  'range': [0, 1]},\n",
       " ('xgboost.XGBClassifier#1', 'min_child_weight'): {'type': 'int',\n",
       "  'default': 1,\n",
       "  'range': [1, 10]}}"
      ]
     },
     "execution_count": 9,
     "metadata": {},
     "output_type": "execute_result"
    }
   ],
   "source": [
    "tunables['single_table.classification.xgb']"
   ]
  },
  {
   "cell_type": "markdown",
   "metadata": {},
   "source": [
    "And then create a `BTBSession` instance passing them and the `cross_validate` function.\n",
    "\n",
    "We will also be setting it in `verbose` mode, so we can have a better insight on what is going on."
   ]
  },
  {
   "cell_type": "code",
   "execution_count": 10,
   "metadata": {},
   "outputs": [],
   "source": [
    "from btb.session import BTBSession\n",
    "\n",
    "session = BTBSession(tunables, cross_validate, verbose=True)"
   ]
  },
  {
   "cell_type": "markdown",
   "metadata": {},
   "source": [
    "## 5. Run the session"
   ]
  },
  {
   "cell_type": "markdown",
   "metadata": {},
   "source": [
    "After everything is set up, we can start running the tuning session passing it\n",
    "the number of iterations that we want to perform."
   ]
  },
  {
   "cell_type": "code",
   "execution_count": 11,
   "metadata": {
    "scrolled": false
   },
   "outputs": [
    {
     "data": {
      "application/vnd.jupyter.widget-view+json": {
       "model_id": "342fe40f08024adcb5b60eea25f49d37",
       "version_major": 2,
       "version_minor": 0
      },
      "text/plain": [
       "HBox(children=(FloatProgress(value=0.0, max=5.0), HTML(value='')))"
      ]
     },
     "metadata": {},
     "output_type": "display_data"
    },
    {
     "name": "stderr",
     "output_type": "stream",
     "text": [
      "2020-09-16 16:32:40,826 - INFO - btb.session - Creating Tunable instance from dict.\n",
      "2020-09-16 16:32:40,827 - INFO - btb.session - Obtaining default configuration for single_table.classification\n",
      "2020-09-16 16:32:46,432 - INFO - btb.session - New optimal found: single_table.classification - 0.8639171383183359\n",
      "2020-09-16 16:32:46,435 - INFO - btb.session - Creating Tunable instance from dict.\n",
      "2020-09-16 16:32:46,436 - INFO - btb.session - Obtaining default configuration for single_table.classification.text\n",
      "2020-09-16 16:32:46,583 - ERROR - mlblocks.mlpipeline - Exception caught producing MLBlock mlprimitives.custom.text.TextCleaner#1\n",
      "Traceback (most recent call last):\n",
      "  File \"/home/xals/.virtualenvs/MLBlocks.clean/lib/python3.6/site-packages/pandas/core/indexes/base.py\", line 2657, in get_loc\n",
      "    return self._engine.get_loc(key)\n",
      "  File \"pandas/_libs/index.pyx\", line 108, in pandas._libs.index.IndexEngine.get_loc\n",
      "  File \"pandas/_libs/index.pyx\", line 132, in pandas._libs.index.IndexEngine.get_loc\n",
      "  File \"pandas/_libs/hashtable_class_helper.pxi\", line 1601, in pandas._libs.hashtable.PyObjectHashTable.get_item\n",
      "  File \"pandas/_libs/hashtable_class_helper.pxi\", line 1608, in pandas._libs.hashtable.PyObjectHashTable.get_item\n",
      "KeyError: 'text'\n",
      "\n",
      "During handling of the above exception, another exception occurred:\n",
      "\n",
      "Traceback (most recent call last):\n",
      "  File \"/home/xals/Projects/MIT/MLBlocks.clean/mlblocks/mlpipeline.py\", line 645, in _produce_block\n",
      "    block_outputs = block.produce(**produce_args)\n",
      "  File \"/home/xals/Projects/MIT/MLBlocks.clean/mlblocks/mlblock.py\", line 322, in produce\n",
      "    return getattr(self.instance, self.produce_method)(**produce_kwargs)\n",
      "  File \"/home/xals/.virtualenvs/MLBlocks.clean/lib/python3.6/site-packages/mlprimitives/custom/text.py\", line 111, in produce\n",
      "    texts = X[self.column]\n",
      "  File \"/home/xals/.virtualenvs/MLBlocks.clean/lib/python3.6/site-packages/pandas/core/frame.py\", line 2927, in __getitem__\n",
      "    indexer = self.columns.get_loc(key)\n",
      "  File \"/home/xals/.virtualenvs/MLBlocks.clean/lib/python3.6/site-packages/pandas/core/indexes/base.py\", line 2659, in get_loc\n",
      "    return self._engine.get_loc(self._maybe_cast_indexer(key))\n",
      "  File \"pandas/_libs/index.pyx\", line 108, in pandas._libs.index.IndexEngine.get_loc\n",
      "  File \"pandas/_libs/index.pyx\", line 132, in pandas._libs.index.IndexEngine.get_loc\n",
      "  File \"pandas/_libs/hashtable_class_helper.pxi\", line 1601, in pandas._libs.hashtable.PyObjectHashTable.get_item\n",
      "  File \"pandas/_libs/hashtable_class_helper.pxi\", line 1608, in pandas._libs.hashtable.PyObjectHashTable.get_item\n",
      "KeyError: 'text'\n",
      "2020-09-16 16:32:46,586 - ERROR - btb.session - Proposal 2 - single_table.classification.text crashed with the following configuration: ('mlprimitives.custom.text.TextCleaner#1', 'lower'): True\n",
      "('mlprimitives.custom.text.TextCleaner#1', 'accents'): True\n",
      "('mlprimitives.custom.text.TextCleaner#1', 'stopwords'): True\n",
      "('mlprimitives.custom.text.TextCleaner#1', 'non_alpha'): True\n",
      "('mlprimitives.custom.text.TextCleaner#1', 'single_chars'): True\n",
      "('mlprimitives.custom.feature_extraction.StringVectorizer#1', 'lowercase'): True\n",
      "('mlprimitives.custom.feature_extraction.StringVectorizer#1', 'binary'): True\n",
      "('mlprimitives.custom.feature_extraction.StringVectorizer#1', 'max_features'): 1000\n",
      "('sklearn.impute.SimpleImputer#1', 'strategy'): mean\n",
      "('sklearn.ensemble.RandomForestClassifier#1', 'n_estimators'): 10\n",
      "('sklearn.ensemble.RandomForestClassifier#1', 'criterion'): gini\n",
      "('sklearn.ensemble.RandomForestClassifier#1', 'max_features'): None\n",
      "('sklearn.ensemble.RandomForestClassifier#1', 'max_depth'): 1\n",
      "('sklearn.ensemble.RandomForestClassifier#1', 'min_samples_split'): 2\n",
      "('sklearn.ensemble.RandomForestClassifier#1', 'min_samples_leaf'): 1\n",
      "('sklearn.ensemble.RandomForestClassifier#1', 'min_weight_fraction_leaf'): 0.0\n",
      "('sklearn.ensemble.RandomForestClassifier#1', 'max_leaf_nodes'): 2\n",
      "('sklearn.ensemble.RandomForestClassifier#1', 'min_impurity_decrease'): 0.0\n",
      "('sklearn.ensemble.RandomForestClassifier#1', 'bootstrap'): True\n",
      "('sklearn.ensemble.RandomForestClassifier#1', 'oob_score'): False\n",
      "Traceback (most recent call last):\n",
      "  File \"/home/xals/.virtualenvs/MLBlocks.clean/lib/python3.6/site-packages/pandas/core/indexes/base.py\", line 2657, in get_loc\n",
      "    return self._engine.get_loc(key)\n",
      "  File \"pandas/_libs/index.pyx\", line 108, in pandas._libs.index.IndexEngine.get_loc\n",
      "  File \"pandas/_libs/index.pyx\", line 132, in pandas._libs.index.IndexEngine.get_loc\n",
      "  File \"pandas/_libs/hashtable_class_helper.pxi\", line 1601, in pandas._libs.hashtable.PyObjectHashTable.get_item\n",
      "  File \"pandas/_libs/hashtable_class_helper.pxi\", line 1608, in pandas._libs.hashtable.PyObjectHashTable.get_item\n",
      "KeyError: 'text'\n",
      "\n",
      "During handling of the above exception, another exception occurred:\n",
      "\n",
      "Traceback (most recent call last):\n",
      "  File \"/home/xals/.virtualenvs/MLBlocks.clean/lib/python3.6/site-packages/btb/session.py\", line 336, in run\n",
      "    score = self._scorer(tunable_name, config)\n",
      "  File \"<ipython-input-7-067b925bbee5>\", line 11, in cross_validate\n",
      "    pipeline.fit(X_train, y_train)\n",
      "  File \"/home/xals/Projects/MIT/MLBlocks.clean/mlblocks/mlpipeline.py\", line 754, in fit\n",
      "    block, block_name, context, output_variables, outputs, debug_info)\n",
      "  File \"/home/xals/Projects/MIT/MLBlocks.clean/mlblocks/mlpipeline.py\", line 645, in _produce_block\n",
      "    block_outputs = block.produce(**produce_args)\n",
      "  File \"/home/xals/Projects/MIT/MLBlocks.clean/mlblocks/mlblock.py\", line 322, in produce\n",
      "    return getattr(self.instance, self.produce_method)(**produce_kwargs)\n",
      "  File \"/home/xals/.virtualenvs/MLBlocks.clean/lib/python3.6/site-packages/mlprimitives/custom/text.py\", line 111, in produce\n",
      "    texts = X[self.column]\n",
      "  File \"/home/xals/.virtualenvs/MLBlocks.clean/lib/python3.6/site-packages/pandas/core/frame.py\", line 2927, in __getitem__\n",
      "    indexer = self.columns.get_loc(key)\n",
      "  File \"/home/xals/.virtualenvs/MLBlocks.clean/lib/python3.6/site-packages/pandas/core/indexes/base.py\", line 2659, in get_loc\n",
      "    return self._engine.get_loc(self._maybe_cast_indexer(key))\n",
      "  File \"pandas/_libs/index.pyx\", line 108, in pandas._libs.index.IndexEngine.get_loc\n",
      "  File \"pandas/_libs/index.pyx\", line 132, in pandas._libs.index.IndexEngine.get_loc\n",
      "  File \"pandas/_libs/hashtable_class_helper.pxi\", line 1601, in pandas._libs.hashtable.PyObjectHashTable.get_item\n",
      "  File \"pandas/_libs/hashtable_class_helper.pxi\", line 1608, in pandas._libs.hashtable.PyObjectHashTable.get_item\n",
      "KeyError: 'text'\n",
      "2020-09-16 16:32:46,587 - WARNING - btb.session - Too many errors: 1. Removing tunable single_table.classification.text\n",
      "2020-09-16 16:32:46,589 - INFO - btb.session - Creating Tunable instance from dict.\n",
      "2020-09-16 16:32:46,589 - INFO - btb.session - Obtaining default configuration for single_table.classification.xgb\n",
      "2020-09-16 16:32:52,100 - INFO - btb.session - Generating new proposal configuration for single_table.classification\n",
      "2020-09-16 16:33:28,900 - INFO - btb.session - New optimal found: single_table.classification - 0.8728234138413778\n",
      "2020-09-16 16:33:28,904 - INFO - btb.session - Generating new proposal configuration for single_table.classification.xgb\n"
     ]
    },
    {
     "name": "stdout",
     "output_type": "stream",
     "text": [
      "\n"
     ]
    },
    {
     "data": {
      "text/plain": [
       "{'id': '7e662f9b90f0e123939b7532ecc221c7',\n",
       " 'name': 'single_table.classification',\n",
       " 'config': {('mlprimitives.custom.feature_extraction.CategoricalEncoder#1',\n",
       "   'max_labels'): 63,\n",
       "  ('mlprimitives.custom.feature_extraction.StringVectorizer#1',\n",
       "   'lowercase'): True,\n",
       "  ('mlprimitives.custom.feature_extraction.StringVectorizer#1',\n",
       "   'binary'): True,\n",
       "  ('mlprimitives.custom.feature_extraction.StringVectorizer#1',\n",
       "   'max_features'): 7315,\n",
       "  ('sklearn.impute.SimpleImputer#1', 'strategy'): 'median',\n",
       "  ('xgboost.XGBClassifier#1', 'n_estimators'): 879,\n",
       "  ('xgboost.XGBClassifier#1', 'max_depth'): 3,\n",
       "  ('xgboost.XGBClassifier#1', 'learning_rate'): 0.23231879890615814,\n",
       "  ('xgboost.XGBClassifier#1', 'gamma'): 0.5474914147721585,\n",
       "  ('xgboost.XGBClassifier#1', 'min_child_weight'): 3},\n",
       " 'score': 0.8728234138413778}"
      ]
     },
     "execution_count": 11,
     "metadata": {},
     "output_type": "execute_result"
    }
   ],
   "source": [
    "session.run(5)"
   ]
  },
  {
   "cell_type": "markdown",
   "metadata": {},
   "source": [
    "During this loop, the BTBSession will build pipelines based on our templates and evaluate them\n",
    "using our scoring function."
   ]
  },
  {
   "cell_type": "markdown",
   "metadata": {},
   "source": [
    "## 6. Evaluate results\n",
    "\n",
    "When the session funishes running it will return a the best proposal available and the\n",
    "obtained score.\n",
    "\n",
    "These results are also available as the `best_proposal` attribute from the btb session object."
   ]
  },
  {
   "cell_type": "code",
   "execution_count": 12,
   "metadata": {},
   "outputs": [
    {
     "data": {
      "text/plain": [
       "{'id': '7e662f9b90f0e123939b7532ecc221c7',\n",
       " 'name': 'single_table.classification',\n",
       " 'config': {('mlprimitives.custom.feature_extraction.CategoricalEncoder#1',\n",
       "   'max_labels'): 63,\n",
       "  ('mlprimitives.custom.feature_extraction.StringVectorizer#1',\n",
       "   'lowercase'): True,\n",
       "  ('mlprimitives.custom.feature_extraction.StringVectorizer#1',\n",
       "   'binary'): True,\n",
       "  ('mlprimitives.custom.feature_extraction.StringVectorizer#1',\n",
       "   'max_features'): 7315,\n",
       "  ('sklearn.impute.SimpleImputer#1', 'strategy'): 'median',\n",
       "  ('xgboost.XGBClassifier#1', 'n_estimators'): 879,\n",
       "  ('xgboost.XGBClassifier#1', 'max_depth'): 3,\n",
       "  ('xgboost.XGBClassifier#1', 'learning_rate'): 0.23231879890615814,\n",
       "  ('xgboost.XGBClassifier#1', 'gamma'): 0.5474914147721585,\n",
       "  ('xgboost.XGBClassifier#1', 'min_child_weight'): 3},\n",
       " 'score': 0.8728234138413778}"
      ]
     },
     "execution_count": 12,
     "metadata": {},
     "output_type": "execute_result"
    }
   ],
   "source": [
    "session.best_proposal"
   ]
  },
  {
   "cell_type": "markdown",
   "metadata": {},
   "source": [
    "## Continue Running"
   ]
  },
  {
   "cell_type": "markdown",
   "metadata": {},
   "source": [
    "If we feel that the score can still be improved and want to keep searching, we can simply run the session again which will continue tuning over the previous results."
   ]
  },
  {
   "cell_type": "code",
   "execution_count": 13,
   "metadata": {
    "scrolled": false
   },
   "outputs": [
    {
     "data": {
      "application/vnd.jupyter.widget-view+json": {
       "model_id": "8dd5d4626f304c279b2b368a671b6cb7",
       "version_major": 2,
       "version_minor": 0
      },
      "text/plain": [
       "HBox(children=(FloatProgress(value=0.0, max=20.0), HTML(value='')))"
      ]
     },
     "metadata": {},
     "output_type": "display_data"
    },
    {
     "name": "stderr",
     "output_type": "stream",
     "text": [
      "2020-09-16 16:34:46,679 - INFO - btb.session - Generating new proposal configuration for single_table.classification\n",
      "2020-09-16 16:35:39,310 - INFO - btb.session - Generating new proposal configuration for single_table.classification.xgb\n",
      "2020-09-16 16:36:53,519 - INFO - btb.session - Generating new proposal configuration for single_table.classification\n",
      "2020-09-16 16:37:31,639 - INFO - btb.session - Generating new proposal configuration for single_table.classification.xgb\n",
      "2020-09-16 16:37:34,254 - INFO - btb.session - Generating new proposal configuration for single_table.classification\n",
      "2020-09-16 16:38:33,930 - INFO - btb.session - Generating new proposal configuration for single_table.classification.xgb\n",
      "2020-09-16 16:38:46,228 - INFO - btb.session - Generating new proposal configuration for single_table.classification\n",
      "2020-09-16 16:39:09,193 - INFO - btb.session - New optimal found: single_table.classification - 0.8730998313333643\n",
      "2020-09-16 16:39:09,199 - INFO - btb.session - Generating new proposal configuration for single_table.classification.xgb\n",
      "2020-09-16 16:40:06,793 - INFO - btb.session - Generating new proposal configuration for single_table.classification\n",
      "2020-09-16 16:40:44,917 - INFO - btb.session - Generating new proposal configuration for single_table.classification.xgb\n",
      "2020-09-16 16:41:19,357 - INFO - btb.session - Generating new proposal configuration for single_table.classification\n",
      "2020-09-16 16:41:29,076 - INFO - btb.session - Generating new proposal configuration for single_table.classification.xgb\n",
      "2020-09-16 16:41:46,742 - INFO - btb.session - Generating new proposal configuration for single_table.classification\n",
      "2020-09-16 16:42:24,199 - INFO - btb.session - Generating new proposal configuration for single_table.classification.xgb\n",
      "2020-09-16 16:42:37,998 - INFO - btb.session - Generating new proposal configuration for single_table.classification\n",
      "2020-09-16 16:43:03,272 - INFO - btb.session - Generating new proposal configuration for single_table.classification.xgb\n",
      "2020-09-16 16:44:01,301 - INFO - btb.session - Generating new proposal configuration for single_table.classification\n",
      "2020-09-16 16:44:12,500 - INFO - btb.session - Generating new proposal configuration for single_table.classification.xgb\n",
      "2020-09-16 16:44:32,221 - INFO - btb.session - Generating new proposal configuration for single_table.classification.xgb\n",
      "2020-09-16 16:45:20,148 - INFO - btb.session - Generating new proposal configuration for single_table.classification\n"
     ]
    },
    {
     "name": "stdout",
     "output_type": "stream",
     "text": [
      "\n"
     ]
    },
    {
     "data": {
      "text/plain": [
       "{'id': '52f65be5a78a6c557b8c5bf868bfdb7d',\n",
       " 'name': 'single_table.classification',\n",
       " 'config': {('mlprimitives.custom.feature_extraction.CategoricalEncoder#1',\n",
       "   'max_labels'): 97,\n",
       "  ('mlprimitives.custom.feature_extraction.StringVectorizer#1',\n",
       "   'lowercase'): True,\n",
       "  ('mlprimitives.custom.feature_extraction.StringVectorizer#1',\n",
       "   'binary'): True,\n",
       "  ('mlprimitives.custom.feature_extraction.StringVectorizer#1',\n",
       "   'max_features'): 270,\n",
       "  ('sklearn.impute.SimpleImputer#1', 'strategy'): 'constant',\n",
       "  ('xgboost.XGBClassifier#1', 'n_estimators'): 556,\n",
       "  ('xgboost.XGBClassifier#1', 'max_depth'): 3,\n",
       "  ('xgboost.XGBClassifier#1', 'learning_rate'): 0.4023947989981499,\n",
       "  ('xgboost.XGBClassifier#1', 'gamma'): 0.9595910516937898,\n",
       "  ('xgboost.XGBClassifier#1', 'min_child_weight'): 6},\n",
       " 'score': 0.8730998313333643}"
      ]
     },
     "execution_count": 13,
     "metadata": {},
     "output_type": "execute_result"
    }
   ],
   "source": [
    "session.run(20)"
   ]
  },
  {
   "cell_type": "markdown",
   "metadata": {},
   "source": [
    "**NOTE**: If you look at the logs you will notice how the BTBSession captures the errors that finds\n",
    "while executing the pipelines and automatically discards the failing tempaltes to be able to continue\n",
    "the tuning session without wasting time on them.\n",
    "\n",
    "The number of errors that we want to wait before discarding a template can be changed passing the\n",
    "`max_errors` argument to the `BTBSession` when it is build.\n",
    "\n",
    "Isn't it cool?"
   ]
  },
  {
   "cell_type": "markdown",
   "metadata": {},
   "source": [
    "## Build the best pipeline\n",
    "\n",
    "Once we are satisfied with the results, we can then build an instance of the best pipeline\n",
    "by reading the `best_proposal` attribute from the `session`."
   ]
  },
  {
   "cell_type": "code",
   "execution_count": 14,
   "metadata": {},
   "outputs": [
    {
     "data": {
      "text/plain": [
       "{'id': '52f65be5a78a6c557b8c5bf868bfdb7d',\n",
       " 'name': 'single_table.classification',\n",
       " 'config': {('mlprimitives.custom.feature_extraction.CategoricalEncoder#1',\n",
       "   'max_labels'): 97,\n",
       "  ('mlprimitives.custom.feature_extraction.StringVectorizer#1',\n",
       "   'lowercase'): True,\n",
       "  ('mlprimitives.custom.feature_extraction.StringVectorizer#1',\n",
       "   'binary'): True,\n",
       "  ('mlprimitives.custom.feature_extraction.StringVectorizer#1',\n",
       "   'max_features'): 270,\n",
       "  ('sklearn.impute.SimpleImputer#1', 'strategy'): 'constant',\n",
       "  ('xgboost.XGBClassifier#1', 'n_estimators'): 556,\n",
       "  ('xgboost.XGBClassifier#1', 'max_depth'): 3,\n",
       "  ('xgboost.XGBClassifier#1', 'learning_rate'): 0.4023947989981499,\n",
       "  ('xgboost.XGBClassifier#1', 'gamma'): 0.9595910516937898,\n",
       "  ('xgboost.XGBClassifier#1', 'min_child_weight'): 6},\n",
       " 'score': 0.8730998313333643}"
      ]
     },
     "execution_count": 14,
     "metadata": {},
     "output_type": "execute_result"
    }
   ],
   "source": [
    "best_proposal = session.best_proposal\n",
    "best_proposal"
   ]
  },
  {
   "cell_type": "code",
   "execution_count": 15,
   "metadata": {},
   "outputs": [],
   "source": [
    "template = templates_dict[best_proposal['name']]\n",
    "\n",
    "pipeline = MLPipeline(template.to_dict())\n",
    "pipeline.set_hyperparameters(best_proposal['config'])\n",
    "\n",
    "pipeline.fit(dataset.data, dataset.target)"
   ]
  },
  {
   "cell_type": "markdown",
   "metadata": {},
   "source": [
    "## Explore other results\n",
    "\n",
    "Optionally, if we are interested in exploring the results of the previous proposals we can access them\n",
    "in the `trials` attribute of the `session` object."
   ]
  },
  {
   "cell_type": "code",
   "execution_count": 16,
   "metadata": {
    "scrolled": false
   },
   "outputs": [
    {
     "data": {
      "text/plain": [
       "[{'id': 'c2cd14c7e9470448a0eeb58a3cce327f',\n",
       "  'name': 'single_table.classification',\n",
       "  'config': {('mlprimitives.custom.feature_extraction.CategoricalEncoder#1',\n",
       "    'max_labels'): 0,\n",
       "   ('mlprimitives.custom.feature_extraction.StringVectorizer#1',\n",
       "    'lowercase'): True,\n",
       "   ('mlprimitives.custom.feature_extraction.StringVectorizer#1',\n",
       "    'binary'): True,\n",
       "   ('mlprimitives.custom.feature_extraction.StringVectorizer#1',\n",
       "    'max_features'): 1000,\n",
       "   ('sklearn.impute.SimpleImputer#1', 'strategy'): 'mean',\n",
       "   ('xgboost.XGBClassifier#1', 'n_estimators'): 100,\n",
       "   ('xgboost.XGBClassifier#1', 'max_depth'): 3,\n",
       "   ('xgboost.XGBClassifier#1', 'learning_rate'): 0.1,\n",
       "   ('xgboost.XGBClassifier#1', 'gamma'): 0.0,\n",
       "   ('xgboost.XGBClassifier#1', 'min_child_weight'): 1},\n",
       "  'score': 0.8639171383183359},\n",
       " {'id': 'adbd189a819483ddc869ceb94513b369',\n",
       "  'name': 'single_table.classification.text',\n",
       "  'config': {('mlprimitives.custom.text.TextCleaner#1', 'lower'): True,\n",
       "   ('mlprimitives.custom.text.TextCleaner#1', 'accents'): True,\n",
       "   ('mlprimitives.custom.text.TextCleaner#1', 'stopwords'): True,\n",
       "   ('mlprimitives.custom.text.TextCleaner#1', 'non_alpha'): True,\n",
       "   ('mlprimitives.custom.text.TextCleaner#1', 'single_chars'): True,\n",
       "   ('mlprimitives.custom.feature_extraction.StringVectorizer#1',\n",
       "    'lowercase'): True,\n",
       "   ('mlprimitives.custom.feature_extraction.StringVectorizer#1',\n",
       "    'binary'): True,\n",
       "   ('mlprimitives.custom.feature_extraction.StringVectorizer#1',\n",
       "    'max_features'): 1000,\n",
       "   ('sklearn.impute.SimpleImputer#1', 'strategy'): 'mean',\n",
       "   ('sklearn.ensemble.RandomForestClassifier#1', 'n_estimators'): 10,\n",
       "   ('sklearn.ensemble.RandomForestClassifier#1', 'criterion'): 'gini',\n",
       "   ('sklearn.ensemble.RandomForestClassifier#1', 'max_features'): None,\n",
       "   ('sklearn.ensemble.RandomForestClassifier#1', 'max_depth'): 1,\n",
       "   ('sklearn.ensemble.RandomForestClassifier#1', 'min_samples_split'): 2,\n",
       "   ('sklearn.ensemble.RandomForestClassifier#1', 'min_samples_leaf'): 1,\n",
       "   ('sklearn.ensemble.RandomForestClassifier#1',\n",
       "    'min_weight_fraction_leaf'): 0.0,\n",
       "   ('sklearn.ensemble.RandomForestClassifier#1', 'max_leaf_nodes'): 2,\n",
       "   ('sklearn.ensemble.RandomForestClassifier#1', 'min_impurity_decrease'): 0.0,\n",
       "   ('sklearn.ensemble.RandomForestClassifier#1', 'bootstrap'): True,\n",
       "   ('sklearn.ensemble.RandomForestClassifier#1', 'oob_score'): False},\n",
       "  'score': None}]"
      ]
     },
     "execution_count": 16,
     "metadata": {},
     "output_type": "execute_result"
    }
   ],
   "source": [
    "list(session.proposals.values())[0:2]"
   ]
  }
 ],
 "metadata": {
  "kernelspec": {
   "display_name": "Python 3",
   "language": "python",
   "name": "python3"
  },
  "language_info": {
   "codemirror_mode": {
    "name": "ipython",
    "version": 3
   },
   "file_extension": ".py",
   "mimetype": "text/x-python",
   "name": "python",
   "nbconvert_exporter": "python",
   "pygments_lexer": "ipython3",
   "version": "3.6.9"
  }
 },
 "nbformat": 4,
 "nbformat_minor": 4
}

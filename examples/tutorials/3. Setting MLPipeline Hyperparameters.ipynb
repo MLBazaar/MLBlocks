{
 "cells": [
  {
   "cell_type": "markdown",
   "metadata": {},
   "source": [
    "# Setting MLPipeline Hyperparameters\n",
    "\n",
    "In this short guide we will see how to modify the hyperparameters\n",
    "of an MLPipeline in order to modify its behavior or performance.\n",
    "\n",
    "Note that some steps are not explained for simplicity. Full details\n",
    "about them can be found in the previous parts of the tutorial.\n",
    "\n",
    "We will:\n",
    "\n",
    "1. Load a dataset and a Pipeline.\n",
    "2. Explore the pipeline hyperparamters.\n",
    "3. Reload the pipeline with different hyperparameters.\n",
    "4. Evaluate the pipeline performance on the dataset.\n",
    "5. Set different pipeline hyperparameters.\n",
    "6. Re-evaluate the pipeline performance on the dataset."
   ]
  },
  {
   "cell_type": "markdown",
   "metadata": {},
   "source": [
    "## Load the Dataset and the Pipeline\n",
    "\n",
    "The first step will be to load the dataset and the pipeline that we will be using."
   ]
  },
  {
   "cell_type": "code",
   "execution_count": 1,
   "metadata": {},
   "outputs": [],
   "source": [
    "from mlprimitives.datasets import load_dataset\n",
    "\n",
    "dataset = load_dataset('census')\n",
    "X_train, X_test, y_train, y_test = dataset.get_splits(1)"
   ]
  },
  {
   "cell_type": "code",
   "execution_count": 2,
   "metadata": {},
   "outputs": [],
   "source": [
    "from mlblocks import MLPipeline\n",
    "\n",
    "primitives = [\n",
    "    'mlprimitives.custom.preprocessing.ClassEncoder',\n",
    "    'mlprimitives.custom.feature_extraction.CategoricalEncoder',\n",
    "    'sklearn.impute.SimpleImputer',\n",
    "    'xgboost.XGBClassifier',\n",
    "    'mlprimitives.custom.preprocessing.ClassDecoder'\n",
    "]\n",
    "pipeline = MLPipeline(primitives)"
   ]
  },
  {
   "cell_type": "markdown",
   "metadata": {},
   "source": [
    "## Explore the Pipeline Hyperparameters"
   ]
  },
  {
   "cell_type": "markdown",
   "metadata": {},
   "source": [
    "Once we have loaded the pipeline, we can see the hyperparameters that it is using by\n",
    "calling its `get_hyperparameters` method."
   ]
  },
  {
   "cell_type": "code",
   "execution_count": 3,
   "metadata": {},
   "outputs": [
    {
     "data": {
      "text/plain": [
       "{'mlprimitives.custom.preprocessing.ClassEncoder#1': {},\n",
       " 'mlprimitives.custom.feature_extraction.CategoricalEncoder#1': {'keep': False,\n",
       "  'copy': True,\n",
       "  'features': 'auto',\n",
       "  'max_unique_ratio': 0,\n",
       "  'max_labels': 0},\n",
       " 'sklearn.impute.SimpleImputer#1': {'missing_values': nan,\n",
       "  'fill_value': None,\n",
       "  'verbose': False,\n",
       "  'copy': True,\n",
       "  'strategy': 'mean'},\n",
       " 'xgboost.XGBClassifier#1': {'n_jobs': -1,\n",
       "  'n_estimators': 100,\n",
       "  'max_depth': 3,\n",
       "  'learning_rate': 0.1,\n",
       "  'gamma': 0,\n",
       "  'min_child_weight': 1},\n",
       " 'mlprimitives.custom.preprocessing.ClassDecoder#1': {}}"
      ]
     },
     "execution_count": 3,
     "metadata": {},
     "output_type": "execute_result"
    }
   ],
   "source": [
    "pipeline.get_hyperparameters()"
   ]
  },
  {
   "cell_type": "markdown",
   "metadata": {},
   "source": [
    "This will return us a dictionary that contains one entry for each step in the pipeline.\n",
    "Each entry will also be a dictionary, indicating the names and the values of the hyperparameters of that step.\n",
    "\n",
    "**NOTE** that here we see the names of the pipeline steps, which are the primitive names with a numerical suffix that allows us to tell the difference between multiple steps that use the same primitive. \n",
    "\n",
    "Alternatively, for better compatibility with tuning systems like [BTB](https://github.com/MLBazaar/BTB)\n",
    "that work with flat, one-level, dictionaries, the argument `flat=True` can be passed."
   ]
  },
  {
   "cell_type": "code",
   "execution_count": 4,
   "metadata": {},
   "outputs": [
    {
     "data": {
      "text/plain": [
       "{('mlprimitives.custom.feature_extraction.CategoricalEncoder#1',\n",
       "  'keep'): False,\n",
       " ('mlprimitives.custom.feature_extraction.CategoricalEncoder#1', 'copy'): True,\n",
       " ('mlprimitives.custom.feature_extraction.CategoricalEncoder#1',\n",
       "  'features'): 'auto',\n",
       " ('mlprimitives.custom.feature_extraction.CategoricalEncoder#1',\n",
       "  'max_unique_ratio'): 0,\n",
       " ('mlprimitives.custom.feature_extraction.CategoricalEncoder#1',\n",
       "  'max_labels'): 0,\n",
       " ('sklearn.impute.SimpleImputer#1', 'missing_values'): nan,\n",
       " ('sklearn.impute.SimpleImputer#1', 'fill_value'): None,\n",
       " ('sklearn.impute.SimpleImputer#1', 'verbose'): False,\n",
       " ('sklearn.impute.SimpleImputer#1', 'copy'): True,\n",
       " ('sklearn.impute.SimpleImputer#1', 'strategy'): 'mean',\n",
       " ('xgboost.XGBClassifier#1', 'n_jobs'): -1,\n",
       " ('xgboost.XGBClassifier#1', 'n_estimators'): 100,\n",
       " ('xgboost.XGBClassifier#1', 'max_depth'): 3,\n",
       " ('xgboost.XGBClassifier#1', 'learning_rate'): 0.1,\n",
       " ('xgboost.XGBClassifier#1', 'gamma'): 0,\n",
       " ('xgboost.XGBClassifier#1', 'min_child_weight'): 1}"
      ]
     },
     "execution_count": 4,
     "metadata": {},
     "output_type": "execute_result"
    }
   ],
   "source": [
    "pipeline.get_hyperparameters(flat=True)"
   ]
  },
  {
   "cell_type": "markdown",
   "metadata": {},
   "source": [
    "This will return us the same information as before, but organized a single one-level\n",
    "dictionary where each key is a `tuple` containing both the name of the step and the hyperparameter."
   ]
  },
  {
   "cell_type": "markdown",
   "metadata": {},
   "source": [
    "## Setting Pipeline hyperparameter values\n",
    "\n",
    "We can set some different hyperparameter values when loading the pipeline by adding the\n",
    "`init_params` argument to `MLPipeline`.\n",
    "\n",
    "The `init_params` has to be a dictionary where each entry corresponds to the name of one of the\n",
    "pipeline steps and each value is another dictionary indicating the hyperparameter values that we\n",
    "want to use on that step.\n",
    "\n",
    "As an example, we will set a different imputer strategy and a different xgboost max dempt."
   ]
  },
  {
   "cell_type": "code",
   "execution_count": 5,
   "metadata": {},
   "outputs": [],
   "source": [
    "init_params = {\n",
    "    'sklearn.impute.SimpleImputer#1': {\n",
    "        'strategy': 'median'\n",
    "    },\n",
    "    'xgboost.XGBClassifier#1': {\n",
    "        'max_depth': 4\n",
    "    }\n",
    "}\n",
    "pipeline = MLPipeline(\n",
    "    primitives,\n",
    "    init_params=init_params\n",
    ")"
   ]
  },
  {
   "cell_type": "markdown",
   "metadata": {},
   "source": [
    "We can now see how the hyperparameters are different than before."
   ]
  },
  {
   "cell_type": "code",
   "execution_count": 6,
   "metadata": {},
   "outputs": [
    {
     "data": {
      "text/plain": [
       "{'mlprimitives.custom.preprocessing.ClassEncoder#1': {},\n",
       " 'mlprimitives.custom.feature_extraction.CategoricalEncoder#1': {'keep': False,\n",
       "  'copy': True,\n",
       "  'features': 'auto',\n",
       "  'max_unique_ratio': 0,\n",
       "  'max_labels': 0},\n",
       " 'sklearn.impute.SimpleImputer#1': {'missing_values': nan,\n",
       "  'fill_value': None,\n",
       "  'verbose': False,\n",
       "  'copy': True,\n",
       "  'strategy': 'median'},\n",
       " 'xgboost.XGBClassifier#1': {'n_jobs': -1,\n",
       "  'max_depth': 4,\n",
       "  'n_estimators': 100,\n",
       "  'learning_rate': 0.1,\n",
       "  'gamma': 0,\n",
       "  'min_child_weight': 1},\n",
       " 'mlprimitives.custom.preprocessing.ClassDecoder#1': {}}"
      ]
     },
     "execution_count": 6,
     "metadata": {},
     "output_type": "execute_result"
    }
   ],
   "source": [
    "pipeline.get_hyperparameters()"
   ]
  },
  {
   "cell_type": "markdown",
   "metadata": {},
   "source": [
    "## Evaluate the Pipeline performance\n",
    "\n",
    "We can now evaluate the pipeline performance to see what results these\n",
    "hyperparameters produce."
   ]
  },
  {
   "cell_type": "code",
   "execution_count": 7,
   "metadata": {},
   "outputs": [
    {
     "data": {
      "text/plain": [
       "0.8647586291610367"
      ]
     },
     "execution_count": 7,
     "metadata": {},
     "output_type": "execute_result"
    }
   ],
   "source": [
    "pipeline.fit(X_train, y_train)\n",
    "y_pred = pipeline.predict(X_test)\n",
    "\n",
    "dataset.score(y_test, y_pred)"
   ]
  },
  {
   "cell_type": "markdown",
   "metadata": {},
   "source": [
    "## Setting hyperparameter values\n",
    "\n",
    "Another way of setting the pipeline hyperparameters without having to recreate it\n",
    "from scratch, is to use its `set_hyperparameters` method.\n",
    "\n",
    "In this case, we will change the CategoricalEncoder `max_labels` and the xgboost `learning_rate`."
   ]
  },
  {
   "cell_type": "code",
   "execution_count": 8,
   "metadata": {},
   "outputs": [],
   "source": [
    "hyperparameters = {\n",
    "    'mlprimitives.custom.feature_extraction.CategoricalEncoder#1': {\n",
    "        'max_labels': 10\n",
    "    },\n",
    "    'xgboost.XGBClassifier#1': {\n",
    "        'learning_rate': 0.3\n",
    "    }\n",
    "}\n",
    "pipeline.set_hyperparameters(hyperparameters)"
   ]
  },
  {
   "cell_type": "markdown",
   "metadata": {},
   "source": [
    "Alternatively, the hyperparameters can be set using the `flat` format:"
   ]
  },
  {
   "cell_type": "code",
   "execution_count": 9,
   "metadata": {},
   "outputs": [],
   "source": [
    "hyperparameters = {\n",
    "    ('mlprimitives.custom.feature_extraction.CategoricalEncoder#1', 'max_labels'): 10,\n",
    "    ('xgboost.XGBClassifier#1', 'learning_rate'): 0.3\n",
    "}\n",
    "pipeline.set_hyperparameters(hyperparameters)"
   ]
  },
  {
   "cell_type": "markdown",
   "metadata": {},
   "source": [
    "And we can see how these hyperparameters now are different than before:"
   ]
  },
  {
   "cell_type": "code",
   "execution_count": 10,
   "metadata": {},
   "outputs": [
    {
     "data": {
      "text/plain": [
       "{'mlprimitives.custom.preprocessing.ClassEncoder#1': {},\n",
       " 'mlprimitives.custom.feature_extraction.CategoricalEncoder#1': {'keep': False,\n",
       "  'copy': True,\n",
       "  'features': 'auto',\n",
       "  'max_unique_ratio': 0,\n",
       "  'max_labels': 10},\n",
       " 'sklearn.impute.SimpleImputer#1': {'missing_values': nan,\n",
       "  'fill_value': None,\n",
       "  'verbose': False,\n",
       "  'copy': True,\n",
       "  'strategy': 'median'},\n",
       " 'xgboost.XGBClassifier#1': {'n_jobs': -1,\n",
       "  'max_depth': 4,\n",
       "  'n_estimators': 100,\n",
       "  'learning_rate': 0.3,\n",
       "  'gamma': 0,\n",
       "  'min_child_weight': 1},\n",
       " 'mlprimitives.custom.preprocessing.ClassDecoder#1': {}}"
      ]
     },
     "execution_count": 10,
     "metadata": {},
     "output_type": "execute_result"
    }
   ],
   "source": [
    "pipeline.get_hyperparameters()"
   ]
  },
  {
   "cell_type": "markdown",
   "metadata": {},
   "source": [
    "## Evaluate the Pipeline performance\n",
    "\n",
    "We can now evaluate again the pipeline performance and see how the hyperparameter\n",
    "change affected the pipeline performance."
   ]
  },
  {
   "cell_type": "code",
   "execution_count": 11,
   "metadata": {},
   "outputs": [
    {
     "data": {
      "text/plain": [
       "0.870531875690947"
      ]
     },
     "execution_count": 11,
     "metadata": {},
     "output_type": "execute_result"
    }
   ],
   "source": [
    "pipeline.fit(X_train, y_train)\n",
    "y_pred = pipeline.predict(X_test)\n",
    "\n",
    "dataset.score(y_test, y_pred)"
   ]
  }
 ],
 "metadata": {
  "kernelspec": {
   "display_name": "Python 3",
   "language": "python",
   "name": "python3"
  },
  "language_info": {
   "codemirror_mode": {
    "name": "ipython",
    "version": 3
   },
   "file_extension": ".py",
   "mimetype": "text/x-python",
   "name": "python",
   "nbconvert_exporter": "python",
   "pygments_lexer": "ipython3",
   "version": "3.6.9"
  }
 },
 "nbformat": 4,
 "nbformat_minor": 4
}

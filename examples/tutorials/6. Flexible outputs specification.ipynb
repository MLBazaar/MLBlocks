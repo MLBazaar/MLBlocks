{
 "cells": [
  {
   "cell_type": "markdown",
   "metadata": {},
   "source": [
    "# Flexible outputs specification\n",
    "\n",
    "In a previous tutorial we have learnt how to obtain intermediate pipeline\n",
    "outputs in order to debug its internal behavior.\n",
    "\n",
    "In this guide we will go a bit further and learn how to define flexible outputs\n",
    "for the pipeline in order to obtain the output of multiple primitives\n",
    "at once.\n",
    "\n",
    "Note that some steps are not explained for simplicity. Full details\n",
    "about them can be found in the previous parts of the tutorial.\n",
    "\n",
    "We will:\n",
    "\n",
    "1. Load a pipeline and a dataset\n",
    "2. Explore the output specification formats"
   ]
  },
  {
   "cell_type": "markdown",
   "metadata": {},
   "source": [
    "## Load a pipeline and a datset\n",
    "\n",
    "The first step will be to load the Census dataset and the pipeline that we will be using."
   ]
  },
  {
   "cell_type": "code",
   "execution_count": 1,
   "metadata": {},
   "outputs": [],
   "source": [
    "from mlprimitives.datasets import load_dataset\n",
    "\n",
    "dataset = load_dataset('census')"
   ]
  },
  {
   "cell_type": "code",
   "execution_count": 2,
   "metadata": {},
   "outputs": [],
   "source": [
    "X_train, X_test, y_train, y_test = dataset.get_splits(1)"
   ]
  },
  {
   "cell_type": "code",
   "execution_count": 3,
   "metadata": {},
   "outputs": [],
   "source": [
    "from mlblocks import MLPipeline\n",
    "\n",
    "primitives = [\n",
    "    'mlprimitives.custom.preprocessing.ClassEncoder',\n",
    "    'mlprimitives.custom.feature_extraction.CategoricalEncoder',\n",
    "    'sklearn.impute.SimpleImputer',\n",
    "    'xgboost.XGBClassifier',\n",
    "    'mlprimitives.custom.preprocessing.ClassDecoder'\n",
    "]\n",
    "pipeline = MLPipeline(primitives)"
   ]
  },
  {
   "cell_type": "markdown",
   "metadata": {},
   "source": [
    "Also, just as a reminder, let's have a quick look at the steps of this pipeline"
   ]
  },
  {
   "cell_type": "code",
   "execution_count": 4,
   "metadata": {
    "scrolled": true
   },
   "outputs": [
    {
     "data": {
      "text/plain": [
       "['mlprimitives.custom.preprocessing.ClassEncoder',\n",
       " 'mlprimitives.custom.feature_extraction.CategoricalEncoder',\n",
       " 'sklearn.impute.SimpleImputer',\n",
       " 'xgboost.XGBClassifier',\n",
       " 'mlprimitives.custom.preprocessing.ClassDecoder']"
      ]
     },
     "execution_count": 4,
     "metadata": {},
     "output_type": "execute_result"
    }
   ],
   "source": [
    "pipeline.primitives"
   ]
  },
  {
   "cell_type": "markdown",
   "metadata": {},
   "source": [
    "And at the `X` and `y` variables that we will be passing to our pipeline."
   ]
  },
  {
   "cell_type": "markdown",
   "metadata": {},
   "source": [
    "`X` is a `pandas.DataFrame` that conatins the demographics data of the subjects:"
   ]
  },
  {
   "cell_type": "code",
   "execution_count": 5,
   "metadata": {},
   "outputs": [
    {
     "data": {
      "text/html": [
       "<div>\n",
       "<style scoped>\n",
       "    .dataframe tbody tr th:only-of-type {\n",
       "        vertical-align: middle;\n",
       "    }\n",
       "\n",
       "    .dataframe tbody tr th {\n",
       "        vertical-align: top;\n",
       "    }\n",
       "\n",
       "    .dataframe thead th {\n",
       "        text-align: right;\n",
       "    }\n",
       "</style>\n",
       "<table border=\"1\" class=\"dataframe\">\n",
       "  <thead>\n",
       "    <tr style=\"text-align: right;\">\n",
       "      <th></th>\n",
       "      <th>age</th>\n",
       "      <th>workclass</th>\n",
       "      <th>fnlwgt</th>\n",
       "      <th>education</th>\n",
       "      <th>education-num</th>\n",
       "      <th>marital-status</th>\n",
       "      <th>occupation</th>\n",
       "      <th>relationship</th>\n",
       "      <th>race</th>\n",
       "      <th>sex</th>\n",
       "      <th>capital-gain</th>\n",
       "      <th>capital-loss</th>\n",
       "      <th>hours-per-week</th>\n",
       "      <th>native-country</th>\n",
       "    </tr>\n",
       "  </thead>\n",
       "  <tbody>\n",
       "    <tr>\n",
       "      <th>28291</th>\n",
       "      <td>25</td>\n",
       "      <td>Private</td>\n",
       "      <td>193379</td>\n",
       "      <td>Assoc-acdm</td>\n",
       "      <td>12</td>\n",
       "      <td>Never-married</td>\n",
       "      <td>Craft-repair</td>\n",
       "      <td>Not-in-family</td>\n",
       "      <td>White</td>\n",
       "      <td>Male</td>\n",
       "      <td>0</td>\n",
       "      <td>0</td>\n",
       "      <td>45</td>\n",
       "      <td>United-States</td>\n",
       "    </tr>\n",
       "    <tr>\n",
       "      <th>28636</th>\n",
       "      <td>55</td>\n",
       "      <td>Federal-gov</td>\n",
       "      <td>176904</td>\n",
       "      <td>HS-grad</td>\n",
       "      <td>9</td>\n",
       "      <td>Married-civ-spouse</td>\n",
       "      <td>Exec-managerial</td>\n",
       "      <td>Husband</td>\n",
       "      <td>White</td>\n",
       "      <td>Male</td>\n",
       "      <td>0</td>\n",
       "      <td>0</td>\n",
       "      <td>40</td>\n",
       "      <td>United-States</td>\n",
       "    </tr>\n",
       "    <tr>\n",
       "      <th>7919</th>\n",
       "      <td>30</td>\n",
       "      <td>Private</td>\n",
       "      <td>284395</td>\n",
       "      <td>HS-grad</td>\n",
       "      <td>9</td>\n",
       "      <td>Married-civ-spouse</td>\n",
       "      <td>Craft-repair</td>\n",
       "      <td>Husband</td>\n",
       "      <td>White</td>\n",
       "      <td>Male</td>\n",
       "      <td>0</td>\n",
       "      <td>0</td>\n",
       "      <td>50</td>\n",
       "      <td>United-States</td>\n",
       "    </tr>\n",
       "    <tr>\n",
       "      <th>24861</th>\n",
       "      <td>17</td>\n",
       "      <td>Private</td>\n",
       "      <td>239346</td>\n",
       "      <td>10th</td>\n",
       "      <td>6</td>\n",
       "      <td>Never-married</td>\n",
       "      <td>Other-service</td>\n",
       "      <td>Own-child</td>\n",
       "      <td>White</td>\n",
       "      <td>Male</td>\n",
       "      <td>0</td>\n",
       "      <td>0</td>\n",
       "      <td>18</td>\n",
       "      <td>United-States</td>\n",
       "    </tr>\n",
       "    <tr>\n",
       "      <th>23480</th>\n",
       "      <td>51</td>\n",
       "      <td>Private</td>\n",
       "      <td>57698</td>\n",
       "      <td>HS-grad</td>\n",
       "      <td>9</td>\n",
       "      <td>Married-spouse-absent</td>\n",
       "      <td>Other-service</td>\n",
       "      <td>Unmarried</td>\n",
       "      <td>White</td>\n",
       "      <td>Female</td>\n",
       "      <td>0</td>\n",
       "      <td>0</td>\n",
       "      <td>40</td>\n",
       "      <td>United-States</td>\n",
       "    </tr>\n",
       "  </tbody>\n",
       "</table>\n",
       "</div>"
      ],
      "text/plain": [
       "       age     workclass  fnlwgt    education  education-num  \\\n",
       "28291   25       Private  193379   Assoc-acdm             12   \n",
       "28636   55   Federal-gov  176904      HS-grad              9   \n",
       "7919    30       Private  284395      HS-grad              9   \n",
       "24861   17       Private  239346         10th              6   \n",
       "23480   51       Private   57698      HS-grad              9   \n",
       "\n",
       "               marital-status        occupation    relationship    race  \\\n",
       "28291           Never-married      Craft-repair   Not-in-family   White   \n",
       "28636      Married-civ-spouse   Exec-managerial         Husband   White   \n",
       "7919       Married-civ-spouse      Craft-repair         Husband   White   \n",
       "24861           Never-married     Other-service       Own-child   White   \n",
       "23480   Married-spouse-absent     Other-service       Unmarried   White   \n",
       "\n",
       "           sex  capital-gain  capital-loss  hours-per-week  native-country  \n",
       "28291     Male             0             0              45   United-States  \n",
       "28636     Male             0             0              40   United-States  \n",
       "7919      Male             0             0              50   United-States  \n",
       "24861     Male             0             0              18   United-States  \n",
       "23480   Female             0             0              40   United-States  "
      ]
     },
     "execution_count": 5,
     "metadata": {},
     "output_type": "execute_result"
    }
   ],
   "source": [
    "X_train.head()"
   ]
  },
  {
   "cell_type": "markdown",
   "metadata": {},
   "source": [
    "And `y` is a `numpy.ndarray` that contains the label that indicates whether the subject has a salary\n",
    "above or under 50K."
   ]
  },
  {
   "cell_type": "code",
   "execution_count": 6,
   "metadata": {},
   "outputs": [
    {
     "data": {
      "text/plain": [
       "array([' <=50K', ' <=50K', ' <=50K', ' <=50K', ' <=50K'], dtype=object)"
      ]
     },
     "execution_count": 6,
     "metadata": {},
     "output_type": "execute_result"
    }
   ],
   "source": [
    "y_train[0:5]"
   ]
  },
  {
   "cell_type": "markdown",
   "metadata": {},
   "source": [
    "## Explore the output specification formats\n",
    "\n",
    "In the previous tutorial we learnt that the output of a pipeline can be specified\n",
    "in multiple formats:\n",
    "\n",
    "* An integer indicating the pipeline step index, which will return us the complete\n",
    "  context after producing the corresponding step.\n",
    "* A string indicating the name of a step, which will also return us the complete\n",
    "  context after producing the corresponding step.\n",
    "  \n",
    "A part from these two options, there are a few more.\n",
    "\n",
    "### Single variable specification\n",
    "\n",
    "Variables can be individually specified by passing a string in the format\n",
    "`{pipeline-step-name}.{variable-name}`.\n",
    "\n",
    "Note that the `pipeline-step-name` part is not only the primitive name, but\n",
    "also the counter number at the end of it.\n",
    "\n",
    "For example, if we want to explore the `classes` variable generated by\n",
    "the `ClassEncoder` primitive during `fit`, we can do the following:"
   ]
  },
  {
   "cell_type": "code",
   "execution_count": 7,
   "metadata": {},
   "outputs": [
    {
     "data": {
      "text/plain": [
       "array([' <=50K', ' >50K'], dtype=object)"
      ]
     },
     "execution_count": 7,
     "metadata": {},
     "output_type": "execute_result"
    }
   ],
   "source": [
    "output_spec = 'mlprimitives.custom.preprocessing.ClassEncoder#1.classes'\n",
    "pipeline.fit(X_train, y_train, output_=output_spec)"
   ]
  },
  {
   "cell_type": "markdown",
   "metadata": {},
   "source": [
    "**NOTE**: Just like with the full context specification, when a variable is specified\n",
    "the pipeline will be executed only up to the step that produces the indicated variable."
   ]
  },
  {
   "cell_type": "markdown",
   "metadata": {},
   "source": [
    "### List of variables\n",
    "\n",
    "In some cases we will be interested in obtaining more than one variable\n",
    "at a time.\n",
    "\n",
    "In order to do this, instead of a single string specification we can pass\n",
    "a list of strings."
   ]
  },
  {
   "cell_type": "code",
   "execution_count": 8,
   "metadata": {},
   "outputs": [],
   "source": [
    "output_spec = [\n",
    "    'mlprimitives.custom.preprocessing.ClassEncoder#1.y',\n",
    "    'mlprimitives.custom.preprocessing.ClassEncoder#1.classes',\n",
    "]\n",
    "out = pipeline.fit(X_train, y_train, output_=output_spec)"
   ]
  },
  {
   "cell_type": "markdown",
   "metadata": {},
   "source": [
    "The output will be a `tuple` containing the variables in the specified order."
   ]
  },
  {
   "cell_type": "code",
   "execution_count": 9,
   "metadata": {},
   "outputs": [],
   "source": [
    "y, classes = out"
   ]
  },
  {
   "cell_type": "markdown",
   "metadata": {},
   "source": [
    "If we want to obtain variables from multiple pipeline steps we simply need\n",
    "to specify all of them at once. Again, **MLBlocks** will run all the necessary\n",
    "pipeline steps, accumulating the desired variables up to the last step needed."
   ]
  },
  {
   "cell_type": "code",
   "execution_count": 10,
   "metadata": {},
   "outputs": [],
   "source": [
    "output_spec = [\n",
    "    'sklearn.impute.SimpleImputer#1.X',\n",
    "    'mlprimitives.custom.preprocessing.ClassEncoder#1.y',\n",
    "    'mlprimitives.custom.preprocessing.ClassEncoder#1.classes',\n",
    "]\n",
    "X, y, classes = pipeline.fit(X_train, y_train, output_=output_spec)"
   ]
  },
  {
   "cell_type": "markdown",
   "metadata": {},
   "source": [
    "If required, we can even capture the same variable along the different pipeline steps!"
   ]
  },
  {
   "cell_type": "code",
   "execution_count": 11,
   "metadata": {},
   "outputs": [],
   "source": [
    "output_spec = [\n",
    "    'mlprimitives.custom.feature_extraction.CategoricalEncoder#1.X',\n",
    "    'sklearn.impute.SimpleImputer#1.X',\n",
    "    'mlprimitives.custom.preprocessing.ClassEncoder#1.y',\n",
    "    'mlprimitives.custom.preprocessing.ClassEncoder#1.classes',\n",
    "]\n",
    "X_1, X_2, y, classes = pipeline.fit(X_train, y_train, output_=output_spec)"
   ]
  },
  {
   "cell_type": "code",
   "execution_count": 12,
   "metadata": {},
   "outputs": [
    {
     "data": {
      "text/plain": [
       "(24420, 108)"
      ]
     },
     "execution_count": 12,
     "metadata": {},
     "output_type": "execute_result"
    }
   ],
   "source": [
    "X_1.shape"
   ]
  },
  {
   "cell_type": "code",
   "execution_count": 13,
   "metadata": {},
   "outputs": [
    {
     "data": {
      "text/plain": [
       "(24420, 108)"
      ]
     },
     "execution_count": 13,
     "metadata": {},
     "output_type": "execute_result"
    }
   ],
   "source": [
    "X_2.shape"
   ]
  }
 ],
 "metadata": {
  "kernelspec": {
   "display_name": "Python 3",
   "language": "python",
   "name": "python3"
  },
  "language_info": {
   "codemirror_mode": {
    "name": "ipython",
    "version": 3
   },
   "file_extension": ".py",
   "mimetype": "text/x-python",
   "name": "python",
   "nbconvert_exporter": "python",
   "pygments_lexer": "ipython3",
   "version": "3.6.9"
  }
 },
 "nbformat": 4,
 "nbformat_minor": 4
}
